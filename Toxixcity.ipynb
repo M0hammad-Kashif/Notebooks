{
  "nbformat": 4,
  "nbformat_minor": 0,
  "metadata": {
    "colab": {
      "name": "Toxixcity.ipynb",
      "provenance": [],
      "mount_file_id": "1WqmCflmMvCJtWldto84cTTaSrU04N6SO",
      "authorship_tag": "ABX9TyNMivdY4SRWNeK3Y8oPJwqT",
      "include_colab_link": true
    },
    "kernelspec": {
      "name": "python3",
      "display_name": "Python 3"
    },
    "language_info": {
      "name": "python"
    },
    "accelerator": "GPU"
  },
  "cells": [
    {
      "cell_type": "markdown",
      "metadata": {
        "id": "view-in-github",
        "colab_type": "text"
      },
      "source": [
        "<a href=\"https://colab.research.google.com/github/M0hammad-Kashif/Notebooks/blob/main/Toxixcity.ipynb\" target=\"_parent\"><img src=\"https://colab.research.google.com/assets/colab-badge.svg\" alt=\"Open In Colab\"/></a>"
      ]
    },
    {
      "cell_type": "code",
      "execution_count": 1,
      "metadata": {
        "id": "CGJja3Kds_UU",
        "colab": {
          "base_uri": "https://localhost:8080/"
        },
        "outputId": "97ea4319-45e5-4e4e-e70a-cfc5d6fb3c9d"
      },
      "outputs": [
        {
          "output_type": "stream",
          "name": "stdout",
          "text": [
            "  Building wheel for tensorflow-docs (setup.py) ... \u001b[?25l\u001b[?25hdone\n",
            "Version:  2.8.0\n",
            "Hub version:  0.12.0\n",
            "GPU is available\n"
          ]
        }
      ],
      "source": [
        "import numpy as np\n",
        "import pandas as pd\n",
        "\n",
        "import tensorflow as tf\n",
        "import tensorflow_hub as hub\n",
        "import tensorflow_datasets as tfds\n",
        "\n",
        "import matplotlib.pyplot as plt\n",
        "plt.rcParams['figure.figsize'] = (12, 8)\n",
        "from  IPython import display\n",
        "\n",
        "import pathlib\n",
        "import shutil\n",
        "import tempfile\n",
        "\n",
        "!pip install -q git+https://github.com/tensorflow/docs\n",
        "\n",
        "import tensorflow_docs as tfdocs\n",
        "import tensorflow_docs.modeling\n",
        "import tensorflow_docs.plots\n",
        "\n",
        "print(\"Version: \", tf.__version__)\n",
        "print(\"Hub version: \", hub.__version__)\n",
        "print(\"GPU is\", \"available\" if tf.config.list_physical_devices('GPU') else \"NOT AVAILABLE\")\n",
        "\n",
        "logdir = pathlib.Path(tempfile.mkdtemp())/\"tensorboard_logs\"\n",
        "shutil.rmtree(logdir, ignore_errors=True)"
      ]
    },
    {
      "cell_type": "code",
      "source": [
        "df = pd.read_csv('/content/drive/Shareddrives/courseDrive/toxicity_dataset/train.csv')"
      ],
      "metadata": {
        "id": "dQcI1YzJt0tx"
      },
      "execution_count": 2,
      "outputs": []
    },
    {
      "cell_type": "code",
      "source": [
        "df.head()"
      ],
      "metadata": {
        "colab": {
          "base_uri": "https://localhost:8080/",
          "height": 206
        },
        "id": "1Djq1DsOutwk",
        "outputId": "dc215d4e-3cab-41d1-9c13-9652db197f58"
      },
      "execution_count": 3,
      "outputs": [
        {
          "output_type": "execute_result",
          "data": {
            "text/html": [
              "\n",
              "  <div id=\"df-fe7c86a9-3845-48e7-97f5-d7aed0778c9f\">\n",
              "    <div class=\"colab-df-container\">\n",
              "      <div>\n",
              "<style scoped>\n",
              "    .dataframe tbody tr th:only-of-type {\n",
              "        vertical-align: middle;\n",
              "    }\n",
              "\n",
              "    .dataframe tbody tr th {\n",
              "        vertical-align: top;\n",
              "    }\n",
              "\n",
              "    .dataframe thead th {\n",
              "        text-align: right;\n",
              "    }\n",
              "</style>\n",
              "<table border=\"1\" class=\"dataframe\">\n",
              "  <thead>\n",
              "    <tr style=\"text-align: right;\">\n",
              "      <th></th>\n",
              "      <th>id</th>\n",
              "      <th>comment_text</th>\n",
              "      <th>toxic</th>\n",
              "      <th>severe_toxic</th>\n",
              "      <th>obscene</th>\n",
              "      <th>threat</th>\n",
              "      <th>insult</th>\n",
              "      <th>identity_hate</th>\n",
              "    </tr>\n",
              "  </thead>\n",
              "  <tbody>\n",
              "    <tr>\n",
              "      <th>0</th>\n",
              "      <td>0000997932d777bf</td>\n",
              "      <td>Explanation\\nWhy the edits made under my usern...</td>\n",
              "      <td>0</td>\n",
              "      <td>0</td>\n",
              "      <td>0</td>\n",
              "      <td>0</td>\n",
              "      <td>0</td>\n",
              "      <td>0</td>\n",
              "    </tr>\n",
              "    <tr>\n",
              "      <th>1</th>\n",
              "      <td>000103f0d9cfb60f</td>\n",
              "      <td>D'aww! He matches this background colour I'm s...</td>\n",
              "      <td>0</td>\n",
              "      <td>0</td>\n",
              "      <td>0</td>\n",
              "      <td>0</td>\n",
              "      <td>0</td>\n",
              "      <td>0</td>\n",
              "    </tr>\n",
              "    <tr>\n",
              "      <th>2</th>\n",
              "      <td>000113f07ec002fd</td>\n",
              "      <td>Hey man, I'm really not trying to edit war. It...</td>\n",
              "      <td>0</td>\n",
              "      <td>0</td>\n",
              "      <td>0</td>\n",
              "      <td>0</td>\n",
              "      <td>0</td>\n",
              "      <td>0</td>\n",
              "    </tr>\n",
              "    <tr>\n",
              "      <th>3</th>\n",
              "      <td>0001b41b1c6bb37e</td>\n",
              "      <td>\"\\nMore\\nI can't make any real suggestions on ...</td>\n",
              "      <td>0</td>\n",
              "      <td>0</td>\n",
              "      <td>0</td>\n",
              "      <td>0</td>\n",
              "      <td>0</td>\n",
              "      <td>0</td>\n",
              "    </tr>\n",
              "    <tr>\n",
              "      <th>4</th>\n",
              "      <td>0001d958c54c6e35</td>\n",
              "      <td>You, sir, are my hero. Any chance you remember...</td>\n",
              "      <td>0</td>\n",
              "      <td>0</td>\n",
              "      <td>0</td>\n",
              "      <td>0</td>\n",
              "      <td>0</td>\n",
              "      <td>0</td>\n",
              "    </tr>\n",
              "  </tbody>\n",
              "</table>\n",
              "</div>\n",
              "      <button class=\"colab-df-convert\" onclick=\"convertToInteractive('df-fe7c86a9-3845-48e7-97f5-d7aed0778c9f')\"\n",
              "              title=\"Convert this dataframe to an interactive table.\"\n",
              "              style=\"display:none;\">\n",
              "        \n",
              "  <svg xmlns=\"http://www.w3.org/2000/svg\" height=\"24px\"viewBox=\"0 0 24 24\"\n",
              "       width=\"24px\">\n",
              "    <path d=\"M0 0h24v24H0V0z\" fill=\"none\"/>\n",
              "    <path d=\"M18.56 5.44l.94 2.06.94-2.06 2.06-.94-2.06-.94-.94-2.06-.94 2.06-2.06.94zm-11 1L8.5 8.5l.94-2.06 2.06-.94-2.06-.94L8.5 2.5l-.94 2.06-2.06.94zm10 10l.94 2.06.94-2.06 2.06-.94-2.06-.94-.94-2.06-.94 2.06-2.06.94z\"/><path d=\"M17.41 7.96l-1.37-1.37c-.4-.4-.92-.59-1.43-.59-.52 0-1.04.2-1.43.59L10.3 9.45l-7.72 7.72c-.78.78-.78 2.05 0 2.83L4 21.41c.39.39.9.59 1.41.59.51 0 1.02-.2 1.41-.59l7.78-7.78 2.81-2.81c.8-.78.8-2.07 0-2.86zM5.41 20L4 18.59l7.72-7.72 1.47 1.35L5.41 20z\"/>\n",
              "  </svg>\n",
              "      </button>\n",
              "      \n",
              "  <style>\n",
              "    .colab-df-container {\n",
              "      display:flex;\n",
              "      flex-wrap:wrap;\n",
              "      gap: 12px;\n",
              "    }\n",
              "\n",
              "    .colab-df-convert {\n",
              "      background-color: #E8F0FE;\n",
              "      border: none;\n",
              "      border-radius: 50%;\n",
              "      cursor: pointer;\n",
              "      display: none;\n",
              "      fill: #1967D2;\n",
              "      height: 32px;\n",
              "      padding: 0 0 0 0;\n",
              "      width: 32px;\n",
              "    }\n",
              "\n",
              "    .colab-df-convert:hover {\n",
              "      background-color: #E2EBFA;\n",
              "      box-shadow: 0px 1px 2px rgba(60, 64, 67, 0.3), 0px 1px 3px 1px rgba(60, 64, 67, 0.15);\n",
              "      fill: #174EA6;\n",
              "    }\n",
              "\n",
              "    [theme=dark] .colab-df-convert {\n",
              "      background-color: #3B4455;\n",
              "      fill: #D2E3FC;\n",
              "    }\n",
              "\n",
              "    [theme=dark] .colab-df-convert:hover {\n",
              "      background-color: #434B5C;\n",
              "      box-shadow: 0px 1px 3px 1px rgba(0, 0, 0, 0.15);\n",
              "      filter: drop-shadow(0px 1px 2px rgba(0, 0, 0, 0.3));\n",
              "      fill: #FFFFFF;\n",
              "    }\n",
              "  </style>\n",
              "\n",
              "      <script>\n",
              "        const buttonEl =\n",
              "          document.querySelector('#df-fe7c86a9-3845-48e7-97f5-d7aed0778c9f button.colab-df-convert');\n",
              "        buttonEl.style.display =\n",
              "          google.colab.kernel.accessAllowed ? 'block' : 'none';\n",
              "\n",
              "        async function convertToInteractive(key) {\n",
              "          const element = document.querySelector('#df-fe7c86a9-3845-48e7-97f5-d7aed0778c9f');\n",
              "          const dataTable =\n",
              "            await google.colab.kernel.invokeFunction('convertToInteractive',\n",
              "                                                     [key], {});\n",
              "          if (!dataTable) return;\n",
              "\n",
              "          const docLinkHtml = 'Like what you see? Visit the ' +\n",
              "            '<a target=\"_blank\" href=https://colab.research.google.com/notebooks/data_table.ipynb>data table notebook</a>'\n",
              "            + ' to learn more about interactive tables.';\n",
              "          element.innerHTML = '';\n",
              "          dataTable['output_type'] = 'display_data';\n",
              "          await google.colab.output.renderOutput(dataTable, element);\n",
              "          const docLink = document.createElement('div');\n",
              "          docLink.innerHTML = docLinkHtml;\n",
              "          element.appendChild(docLink);\n",
              "        }\n",
              "      </script>\n",
              "    </div>\n",
              "  </div>\n",
              "  "
            ],
            "text/plain": [
              "                 id  ... identity_hate\n",
              "0  0000997932d777bf  ...             0\n",
              "1  000103f0d9cfb60f  ...             0\n",
              "2  000113f07ec002fd  ...             0\n",
              "3  0001b41b1c6bb37e  ...             0\n",
              "4  0001d958c54c6e35  ...             0\n",
              "\n",
              "[5 rows x 8 columns]"
            ]
          },
          "metadata": {},
          "execution_count": 3
        }
      ]
    },
    {
      "cell_type": "code",
      "source": [
        "df[['toxic','severe_toxic','obscene','threat','insult','identity_hate']].plot(kind='hist',title='Target Distribution');"
      ],
      "metadata": {
        "colab": {
          "base_uri": "https://localhost:8080/",
          "height": 281
        },
        "id": "676ZrSEru4sB",
        "outputId": "939da319-6d18-40cf-bfa7-e9fe3af8960f"
      },
      "execution_count": 4,
      "outputs": [
        {
          "output_type": "display_data",
          "data": {
            "image/png": "[encoded data removed]",
            "text/plain": [
              "<Figure size 432x288 with 1 Axes>"
            ]
          },
          "metadata": {
            "needs_background": "light"
          }
        }
      ]
    },
    {
      "cell_type": "code",
      "source": [
        "from sklearn.model_selection import train_test_split\n",
        "train_df,remaining=train_test_split(df,random_state=42,train_size=0.01)\n",
        "validation_df,_=train_test_split(remaining,random_state=42,train_size=0.004)\n",
        "train_df.shape,validation_df.shape"
      ],
      "metadata": {
        "colab": {
          "base_uri": "https://localhost:8080/"
        },
        "id": "0Jghb13yvNTj",
        "outputId": "34c07311-6cc5-405d-cfa6-0b7a3ded3482"
      },
      "execution_count": 5,
      "outputs": [
        {
          "output_type": "execute_result",
          "data": {
            "text/plain": [
              "((1595, 8), (631, 8))"
            ]
          },
          "metadata": {},
          "execution_count": 5
        }
      ]
    },
    {
      "cell_type": "code",
      "source": [
        "train_df.drop('id',axis=1,inplace=True)\n"
      ],
      "metadata": {
        "id": "aKIl9iPcvhFS"
      },
      "execution_count": 6,
      "outputs": []
    },
    {
      "cell_type": "code",
      "source": [
        "train_df.head()"
      ],
      "metadata": {
        "colab": {
          "base_uri": "https://localhost:8080/",
          "height": 206
        },
        "id": "QKli9hYFxGS_",
        "outputId": "c2fbba21-3569-4ebc-b1c6-23ff7d652d2e"
      },
      "execution_count": 7,
      "outputs": [
        {
          "output_type": "execute_result",
          "data": {
            "text/html": [
              "\n",
              "  <div id=\"df-3045c9dd-f31b-4266-8044-e860d10a26a0\">\n",
              "    <div class=\"colab-df-container\">\n",
              "      <div>\n",
              "<style scoped>\n",
              "    .dataframe tbody tr th:only-of-type {\n",
              "        vertical-align: middle;\n",
              "    }\n",
              "\n",
              "    .dataframe tbody tr th {\n",
              "        vertical-align: top;\n",
              "    }\n",
              "\n",
              "    .dataframe thead th {\n",
              "        text-align: right;\n",
              "    }\n",
              "</style>\n",
              "<table border=\"1\" class=\"dataframe\">\n",
              "  <thead>\n",
              "    <tr style=\"text-align: right;\">\n",
              "      <th></th>\n",
              "      <th>comment_text</th>\n",
              "      <th>toxic</th>\n",
              "      <th>severe_toxic</th>\n",
              "      <th>obscene</th>\n",
              "      <th>threat</th>\n",
              "      <th>insult</th>\n",
              "      <th>identity_hate</th>\n",
              "    </tr>\n",
              "  </thead>\n",
              "  <tbody>\n",
              "    <tr>\n",
              "      <th>157087</th>\n",
              "      <td>\"\\n\\n Rayleigh scattering \\n\\nThere is a \"\"cit...</td>\n",
              "      <td>0</td>\n",
              "      <td>0</td>\n",
              "      <td>0</td>\n",
              "      <td>0</td>\n",
              "      <td>0</td>\n",
              "      <td>0</td>\n",
              "    </tr>\n",
              "    <tr>\n",
              "      <th>125150</th>\n",
              "      <td>\"\\n\\nGibraltar self-government\\n\\nDear Justin,...</td>\n",
              "      <td>0</td>\n",
              "      <td>0</td>\n",
              "      <td>0</td>\n",
              "      <td>0</td>\n",
              "      <td>0</td>\n",
              "      <td>0</td>\n",
              "    </tr>\n",
              "    <tr>\n",
              "      <th>130406</th>\n",
              "      <td>Misc Activities \\n\\nBETA\\nBeta is a business a...</td>\n",
              "      <td>0</td>\n",
              "      <td>0</td>\n",
              "      <td>0</td>\n",
              "      <td>0</td>\n",
              "      <td>0</td>\n",
              "      <td>0</td>\n",
              "    </tr>\n",
              "    <tr>\n",
              "      <th>117832</th>\n",
              "      <td>Agriculture, food and drink</td>\n",
              "      <td>0</td>\n",
              "      <td>0</td>\n",
              "      <td>0</td>\n",
              "      <td>0</td>\n",
              "      <td>0</td>\n",
              "      <td>0</td>\n",
              "    </tr>\n",
              "    <tr>\n",
              "      <th>132997</th>\n",
              "      <td>\":Thanks for taking alright. I just want to fo...</td>\n",
              "      <td>0</td>\n",
              "      <td>0</td>\n",
              "      <td>0</td>\n",
              "      <td>0</td>\n",
              "      <td>0</td>\n",
              "      <td>0</td>\n",
              "    </tr>\n",
              "  </tbody>\n",
              "</table>\n",
              "</div>\n",
              "      <button class=\"colab-df-convert\" onclick=\"convertToInteractive('df-3045c9dd-f31b-4266-8044-e860d10a26a0')\"\n",
              "              title=\"Convert this dataframe to an interactive table.\"\n",
              "              style=\"display:none;\">\n",
              "        \n",
              "  <svg xmlns=\"http://www.w3.org/2000/svg\" height=\"24px\"viewBox=\"0 0 24 24\"\n",
              "       width=\"24px\">\n",
              "    <path d=\"M0 0h24v24H0V0z\" fill=\"none\"/>\n",
              "    <path d=\"M18.56 5.44l.94 2.06.94-2.06 2.06-.94-2.06-.94-.94-2.06-.94 2.06-2.06.94zm-11 1L8.5 8.5l.94-2.06 2.06-.94-2.06-.94L8.5 2.5l-.94 2.06-2.06.94zm10 10l.94 2.06.94-2.06 2.06-.94-2.06-.94-.94-2.06-.94 2.06-2.06.94z\"/><path d=\"M17.41 7.96l-1.37-1.37c-.4-.4-.92-.59-1.43-.59-.52 0-1.04.2-1.43.59L10.3 9.45l-7.72 7.72c-.78.78-.78 2.05 0 2.83L4 21.41c.39.39.9.59 1.41.59.51 0 1.02-.2 1.41-.59l7.78-7.78 2.81-2.81c.8-.78.8-2.07 0-2.86zM5.41 20L4 18.59l7.72-7.72 1.47 1.35L5.41 20z\"/>\n",
              "  </svg>\n",
              "      </button>\n",
              "      \n",
              "  <style>\n",
              "    .colab-df-container {\n",
              "      display:flex;\n",
              "      flex-wrap:wrap;\n",
              "      gap: 12px;\n",
              "    }\n",
              "\n",
              "    .colab-df-convert {\n",
              "      background-color: #E8F0FE;\n",
              "      border: none;\n",
              "      border-radius: 50%;\n",
              "      cursor: pointer;\n",
              "      display: none;\n",
              "      fill: #1967D2;\n",
              "      height: 32px;\n",
              "      padding: 0 0 0 0;\n",
              "      width: 32px;\n",
              "    }\n",
              "\n",
              "    .colab-df-convert:hover {\n",
              "      background-color: #E2EBFA;\n",
              "      box-shadow: 0px 1px 2px rgba(60, 64, 67, 0.3), 0px 1px 3px 1px rgba(60, 64, 67, 0.15);\n",
              "      fill: #174EA6;\n",
              "    }\n",
              "\n",
              "    [theme=dark] .colab-df-convert {\n",
              "      background-color: #3B4455;\n",
              "      fill: #D2E3FC;\n",
              "    }\n",
              "\n",
              "    [theme=dark] .colab-df-convert:hover {\n",
              "      background-color: #434B5C;\n",
              "      box-shadow: 0px 1px 3px 1px rgba(0, 0, 0, 0.15);\n",
              "      filter: drop-shadow(0px 1px 2px rgba(0, 0, 0, 0.3));\n",
              "      fill: #FFFFFF;\n",
              "    }\n",
              "  </style>\n",
              "\n",
              "      <script>\n",
              "        const buttonEl =\n",
              "          document.querySelector('#df-3045c9dd-f31b-4266-8044-e860d10a26a0 button.colab-df-convert');\n",
              "        buttonEl.style.display =\n",
              "          google.colab.kernel.accessAllowed ? 'block' : 'none';\n",
              "\n",
              "        async function convertToInteractive(key) {\n",
              "          const element = document.querySelector('#df-3045c9dd-f31b-4266-8044-e860d10a26a0');\n",
              "          const dataTable =\n",
              "            await google.colab.kernel.invokeFunction('convertToInteractive',\n",
              "                                                     [key], {});\n",
              "          if (!dataTable) return;\n",
              "\n",
              "          const docLinkHtml = 'Like what you see? Visit the ' +\n",
              "            '<a target=\"_blank\" href=https://colab.research.google.com/notebooks/data_table.ipynb>data table notebook</a>'\n",
              "            + ' to learn more about interactive tables.';\n",
              "          element.innerHTML = '';\n",
              "          dataTable['output_type'] = 'display_data';\n",
              "          await google.colab.output.renderOutput(dataTable, element);\n",
              "          const docLink = document.createElement('div');\n",
              "          docLink.innerHTML = docLinkHtml;\n",
              "          element.appendChild(docLink);\n",
              "        }\n",
              "      </script>\n",
              "    </div>\n",
              "  </div>\n",
              "  "
            ],
            "text/plain": [
              "                                             comment_text  ...  identity_hate\n",
              "157087  \"\\n\\n Rayleigh scattering \\n\\nThere is a \"\"cit...  ...              0\n",
              "125150  \"\\n\\nGibraltar self-government\\n\\nDear Justin,...  ...              0\n",
              "130406  Misc Activities \\n\\nBETA\\nBeta is a business a...  ...              0\n",
              "117832                        Agriculture, food and drink  ...              0\n",
              "132997  \":Thanks for taking alright. I just want to fo...  ...              0\n",
              "\n",
              "[5 rows x 7 columns]"
            ]
          },
          "metadata": {},
          "execution_count": 7
        }
      ]
    },
    {
      "cell_type": "code",
      "source": [
        "validation_df.drop('id',axis=1,inplace=True)"
      ],
      "metadata": {
        "id": "-1aouf3awhnU"
      },
      "execution_count": 8,
      "outputs": []
    },
    {
      "cell_type": "code",
      "source": [
        "module_url = \"https://tfhub.dev/google/tf2-preview/gnews-swivel-20dim/1\" #@param [\"https://tfhub.dev/google/tf2-preview/gnews-swivel-20dim/1\", \"https://tfhub.dev/google/tf2-preview/nnlm-en-dim50/1\", \"https://tfhub.dev/google/tf2-preview/nnlm-en-dim128/1\", \"https://tfhub.dev/google/universal-sentence-encoder/4\", \"https://tfhub.dev/google/universal-sentence-encoder-large/5\"] {allow-input: true}\n"
      ],
      "metadata": {
        "id": "8P3IG6qvwMGo"
      },
      "execution_count": 9,
      "outputs": []
    },
    {
      "cell_type": "code",
      "source": [
        "def train_and_evaluate_model(module_url, embed_size, name, trainable=False):\n",
        "  hub_layer=hub.KerasLayer(module_url,input_shape=[],output_shape=[embed_size],dtype=tf.string,trainable=trainable)\n",
        "  model=tf.keras.models.Sequential([hub_layer, tf.keras.layers.Dense(256,activation='relu'),tf.keras.layers.Dense(64,activation='relu'),tf.keras.layers.Dense(6,activation='sigmoid')])\n",
        "  model.compile(optimizer=tf.keras.optimizers.Adam(learning_rate=0.0001),loss=tf.losses.BinaryCrossentropy(),metrics=[tf.metrics.CategoricalCrossentropy(name='accuracy')])\n",
        "  model.summary()\n",
        "  history=model.fit(train_df['comment_text'],\n",
        "                    train_df[['toxic','severe_toxic','obscene','threat','insult','identity_hate']],\n",
        "                    epochs=100,batch_size=32,\n",
        "                    validation_data=(validation_df['comment_text'],\n",
        "                    validation_df[['toxic','severe_toxic','obscene','threat','insult','identity_hate']]),\n",
        "                    callbacks=[tfdocs.modeling.EpochDots(),tf.keras.callbacks.EarlyStopping(monitor='val_loss',patience=2,mode='min'),tf.keras.callbacks.TensorBoard(logdir/name)],verbose=1)\n",
        "  model.save('/content/drive/Shareddrives/courseDrive/toxicity_dataset/model/')\n",
        "  return history"
      ],
      "metadata": {
        "id": "IWv0JvPIwUfu"
      },
      "execution_count": 17,
      "outputs": []
    },
    {
      "cell_type": "code",
      "source": [
        "histories={}"
      ],
      "metadata": {
        "id": "h3mpSLzYxlgI"
      },
      "execution_count": 18,
      "outputs": []
    },
    {
      "cell_type": "code",
      "source": [
        "module_url = \"https://tfhub.dev/google/universal-sentence-encoder-large/5\" #@param [\"https://tfhub.dev/google/tf2-preview/gnews-swivel-20dim/1\", \"https://tfhub.dev/google/tf2-preview/nnlm-en-dim50/1\", \"https://tfhub.dev/google/tf2-preview/nnlm-en-dim128/1\", \"https://tfhub.dev/google/universal-sentence-encoder/4\", \"https://tfhub.dev/google/universal-sentence-encoder-large/5\"] {allow-input: true}\n"
      ],
      "metadata": {
        "id": "i1UxWxF3xnfy"
      },
      "execution_count": 19,
      "outputs": []
    },
    {
      "cell_type": "code",
      "source": [
        "histories['universal-sentence-encoder-large']=train_and_evaluate_model(module_url,\n",
        "                                                                       embed_size=512,name='universal-sentence-encoder-large',trainable=False)\n"
      ],
      "metadata": {
        "colab": {
          "base_uri": "https://localhost:8080/"
        },
        "id": "J0rzbREwxqA8",
        "outputId": "42be2a4b-282e-4137-cd87-49a84c034024"
      },
      "execution_count": 20,
      "outputs": [
        {
          "output_type": "stream",
          "name": "stdout",
          "text": [
            "Model: \"sequential_1\"\n",
            "_________________________________________________________________\n",
            " Layer (type)                Output Shape              Param #   \n",
            "=================================================================\n",
            " keras_layer_1 (KerasLayer)  (None, 512)               147354880 \n",
            "                                                                 \n",
            " dense_3 (Dense)             (None, 256)               131328    \n",
            "                                                                 \n",
            " dense_4 (Dense)             (None, 64)                16448     \n",
            "                                                                 \n",
            " dense_5 (Dense)             (None, 6)                 390       \n",
            "                                                                 \n",
            "=================================================================\n",
            "Total params: 147,503,046\n",
            "Trainable params: 148,166\n",
            "Non-trainable params: 147,354,880\n",
            "_________________________________________________________________\n",
            "Epoch 1/100\n",
            " 6/50 [==>...........................] - ETA: 14s - loss: 0.6908 - accuracy: 0.3926WARNING:tensorflow:Callback method `on_train_batch_end` is slow compared to the batch time (batch time: 0.3302s vs `on_train_batch_end` time: 0.5013s). Check your callbacks.\n"
          ]
        },
        {
          "output_type": "stream",
          "name": "stderr",
          "text": [
            "WARNING:tensorflow:Callback method `on_train_batch_end` is slow compared to the batch time (batch time: 0.3302s vs `on_train_batch_end` time: 0.5013s). Check your callbacks.\n"
          ]
        },
        {
          "output_type": "stream",
          "name": "stdout",
          "text": [
            "50/50 [==============================] - ETA: 0s - loss: 0.6682 - accuracy: 0.4575\n",
            "Epoch: 0, accuracy:0.4575,  loss:0.6682,  val_accuracy:0.4402,  val_loss:0.6371,  \n",
            "50/50 [==============================] - 66s 674ms/step - loss: 0.6682 - accuracy: 0.4575 - val_loss: 0.6371 - val_accuracy: 0.4402\n",
            "Epoch 2/100\n",
            "50/50 [==============================] - 27s 538ms/step - loss: 0.5916 - accuracy: 0.4523 - val_loss: 0.5356 - val_accuracy: 0.4339\n",
            "Epoch 3/100\n",
            "50/50 [==============================] - 28s 559ms/step - loss: 0.4680 - accuracy: 0.4480 - val_loss: 0.3952 - val_accuracy: 0.4297\n",
            "Epoch 4/100\n",
            "50/50 [==============================] - 27s 539ms/step - loss: 0.3329 - accuracy: 0.4415 - val_loss: 0.2776 - val_accuracy: 0.4190\n",
            "Epoch 5/100\n",
            "50/50 [==============================] - 23s 455ms/step - loss: 0.2388 - accuracy: 0.4283 - val_loss: 0.2124 - val_accuracy: 0.3996\n",
            "Epoch 6/100\n",
            "50/50 [==============================] - 26s 533ms/step - loss: 0.1904 - accuracy: 0.4087 - val_loss: 0.1800 - val_accuracy: 0.3725\n",
            "Epoch 7/100\n",
            "50/50 [==============================] - 27s 543ms/step - loss: 0.1652 - accuracy: 0.3889 - val_loss: 0.1621 - val_accuracy: 0.3538\n",
            "Epoch 8/100\n",
            "50/50 [==============================] - 27s 552ms/step - loss: 0.1496 - accuracy: 0.3763 - val_loss: 0.1498 - val_accuracy: 0.3438\n",
            "Epoch 9/100\n",
            "50/50 [==============================] - 27s 554ms/step - loss: 0.1383 - accuracy: 0.3705 - val_loss: 0.1403 - val_accuracy: 0.3393\n",
            "Epoch 10/100\n",
            "50/50 [==============================] - 26s 528ms/step - loss: 0.1289 - accuracy: 0.3681 - val_loss: 0.1322 - val_accuracy: 0.3383\n",
            "Epoch 11/100\n",
            "50/50 [==============================] - 27s 543ms/step - loss: 0.1204 - accuracy: 0.3682 - val_loss: 0.1248 - val_accuracy: 0.3395\n",
            "Epoch 12/100\n",
            "50/50 [==============================] - 26s 524ms/step - loss: 0.1127 - accuracy: 0.3707 - val_loss: 0.1180 - val_accuracy: 0.3420\n",
            "Epoch 13/100\n",
            "50/50 [==============================] - 27s 549ms/step - loss: 0.1056 - accuracy: 0.3713 - val_loss: 0.1117 - val_accuracy: 0.3454\n",
            "Epoch 14/100\n",
            "50/50 [==============================] - 27s 552ms/step - loss: 0.0993 - accuracy: 0.3764 - val_loss: 0.1066 - val_accuracy: 0.3494\n",
            "Epoch 15/100\n",
            "50/50 [==============================] - 26s 533ms/step - loss: 0.0938 - accuracy: 0.3796 - val_loss: 0.1017 - val_accuracy: 0.3537\n",
            "Epoch 16/100\n",
            "50/50 [==============================] - 28s 538ms/step - loss: 0.0889 - accuracy: 0.3828 - val_loss: 0.0975 - val_accuracy: 0.3570\n",
            "Epoch 17/100\n",
            "50/50 [==============================] - 27s 531ms/step - loss: 0.0847 - accuracy: 0.3837 - val_loss: 0.0940 - val_accuracy: 0.3611\n",
            "Epoch 18/100\n",
            "50/50 [==============================] - 27s 543ms/step - loss: 0.0809 - accuracy: 0.3878 - val_loss: 0.0910 - val_accuracy: 0.3639\n",
            "Epoch 19/100\n",
            "50/50 [==============================] - 27s 547ms/step - loss: 0.0775 - accuracy: 0.3900 - val_loss: 0.0888 - val_accuracy: 0.3649\n",
            "Epoch 20/100\n",
            "50/50 [==============================] - 27s 534ms/step - loss: 0.0746 - accuracy: 0.3920 - val_loss: 0.0867 - val_accuracy: 0.3707\n",
            "Epoch 21/100\n",
            "50/50 [==============================] - 27s 547ms/step - loss: 0.0720 - accuracy: 0.3939 - val_loss: 0.0846 - val_accuracy: 0.3696\n",
            "Epoch 22/100\n",
            "50/50 [==============================] - 27s 549ms/step - loss: 0.0695 - accuracy: 0.3935 - val_loss: 0.0832 - val_accuracy: 0.3714\n",
            "Epoch 23/100\n",
            "50/50 [==============================] - 26s 533ms/step - loss: 0.0674 - accuracy: 0.3935 - val_loss: 0.0814 - val_accuracy: 0.3748\n",
            "Epoch 24/100\n",
            "50/50 [==============================] - 27s 548ms/step - loss: 0.0653 - accuracy: 0.3963 - val_loss: 0.0804 - val_accuracy: 0.3749\n",
            "Epoch 25/100\n",
            "50/50 [==============================] - 27s 542ms/step - loss: 0.0633 - accuracy: 0.3973 - val_loss: 0.0796 - val_accuracy: 0.3770\n",
            "Epoch 26/100\n",
            "50/50 [==============================] - 27s 554ms/step - loss: 0.0616 - accuracy: 0.3986 - val_loss: 0.0785 - val_accuracy: 0.3784\n",
            "Epoch 27/100\n",
            "50/50 [==============================] - 26s 532ms/step - loss: 0.0600 - accuracy: 0.3965 - val_loss: 0.0780 - val_accuracy: 0.3791\n",
            "Epoch 28/100\n",
            "50/50 [==============================] - 26s 536ms/step - loss: 0.0583 - accuracy: 0.4000 - val_loss: 0.0772 - val_accuracy: 0.3815\n",
            "Epoch 29/100\n",
            "50/50 [==============================] - 27s 545ms/step - loss: 0.0568 - accuracy: 0.4006 - val_loss: 0.0769 - val_accuracy: 0.3832\n",
            "Epoch 30/100\n",
            "50/50 [==============================] - 27s 529ms/step - loss: 0.0555 - accuracy: 0.4018 - val_loss: 0.0765 - val_accuracy: 0.3836\n",
            "Epoch 31/100\n",
            "50/50 [==============================] - 27s 538ms/step - loss: 0.0540 - accuracy: 0.3992 - val_loss: 0.0758 - val_accuracy: 0.3842\n",
            "Epoch 32/100\n",
            "50/50 [==============================] - 23s 464ms/step - loss: 0.0527 - accuracy: 0.4032 - val_loss: 0.0749 - val_accuracy: 0.3900\n",
            "Epoch 33/100\n",
            "50/50 [==============================] - 23s 462ms/step - loss: 0.0515 - accuracy: 0.4031 - val_loss: 0.0751 - val_accuracy: 0.3873\n",
            "Epoch 34/100\n",
            "50/50 [==============================] - 26s 532ms/step - loss: 0.0502 - accuracy: 0.4046 - val_loss: 0.0747 - val_accuracy: 0.3924\n",
            "Epoch 35/100\n",
            "50/50 [==============================] - 26s 534ms/step - loss: 0.0491 - accuracy: 0.4073 - val_loss: 0.0743 - val_accuracy: 0.3959\n",
            "Epoch 36/100\n",
            "50/50 [==============================] - 27s 535ms/step - loss: 0.0480 - accuracy: 0.4077 - val_loss: 0.0740 - val_accuracy: 0.3988\n",
            "Epoch 37/100\n",
            "50/50 [==============================] - 27s 547ms/step - loss: 0.0469 - accuracy: 0.4081 - val_loss: 0.0738 - val_accuracy: 0.4014\n",
            "Epoch 38/100\n",
            "50/50 [==============================] - 26s 529ms/step - loss: 0.0459 - accuracy: 0.4127 - val_loss: 0.0739 - val_accuracy: 0.4011\n",
            "Epoch 39/100\n",
            "50/50 [==============================] - 27s 541ms/step - loss: 0.0450 - accuracy: 0.4111 - val_loss: 0.0735 - val_accuracy: 0.4033\n",
            "Epoch 40/100\n",
            "50/50 [==============================] - 27s 549ms/step - loss: 0.0439 - accuracy: 0.4097 - val_loss: 0.0737 - val_accuracy: 0.4040\n",
            "Epoch 41/100\n",
            "50/50 [==============================] - 27s 543ms/step - loss: 0.0430 - accuracy: 0.4135 - val_loss: 0.0736 - val_accuracy: 0.4089\n",
            "INFO:tensorflow:Assets written to: /content/drive/Shareddrives/courseDrive/toxicity_dataset/model/assets\n"
          ]
        },
        {
          "output_type": "stream",
          "name": "stderr",
          "text": [
            "INFO:tensorflow:Assets written to: /content/drive/Shareddrives/courseDrive/toxicity_dataset/model/assets\n"
          ]
        }
      ]
    },
    {
      "cell_type": "code",
      "source": [
        ""
      ],
      "metadata": {
        "id": "IR-y0pn827vF"
      },
      "execution_count": null,
      "outputs": []
    }
  ]
}